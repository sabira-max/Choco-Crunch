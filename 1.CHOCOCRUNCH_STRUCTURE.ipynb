{
 "cells": [
  {
   "cell_type": "code",
   "execution_count": 33,
   "id": "91191b84-1b4e-4123-acab-f1adefaca120",
   "metadata": {},
   "outputs": [],
   "source": [
    "import requests\n",
    "import pandas as pd\n",
    "import numpy as np"
   ]
  },
  {
   "cell_type": "code",
   "execution_count": 8,
   "id": "8859086d-0904-4b88-94c7-285f4fee3140",
   "metadata": {},
   "outputs": [],
   "source": [
    "def fetch_classifications(pages=120):\n",
    "    base_url = \"https://world.openfoodfacts.org/api/v2/search\"\n",
    "    records = []\n",
    "    \n",
    "    for page in range(1, pages + 1):   \n",
    "        params = {\n",
    "            \"categories\": \"chocolates\",\n",
    "            \"fields\": \"code,product_name,brands,nutriments\",\n",
    "            \"page_size\": 100,  \n",
    "            \"page\": page\n",
    "        }\n",
    "        \n",
    "        response = requests.get(base_url, params=params)\n",
    "        if response.status_code == 200:\n",
    "            data = response.json()\n",
    "            products = data.get(\"products\", [])\n",
    "            records.extend(products)\n",
    "              \n",
    "    return pd.DataFrame(records, columns=[\"code\", \"product_name\", \"brands\", \"nutriments\"])"
   ]
  },
  {
   "cell_type": "code",
   "execution_count": 9,
   "id": "49b6f88c-0c48-43ce-bcad-11c07c16c021",
   "metadata": {},
   "outputs": [],
   "source": [
    "data=fetch_classifications(pages=2)"
   ]
  },
  {
   "cell_type": "code",
   "execution_count": 10,
   "id": "76036bc6-3cc4-4148-89f6-780920c26452",
   "metadata": {},
   "outputs": [
    {
     "data": {
      "text/html": [
       "<div>\n",
       "<style scoped>\n",
       "    .dataframe tbody tr th:only-of-type {\n",
       "        vertical-align: middle;\n",
       "    }\n",
       "\n",
       "    .dataframe tbody tr th {\n",
       "        vertical-align: top;\n",
       "    }\n",
       "\n",
       "    .dataframe thead th {\n",
       "        text-align: right;\n",
       "    }\n",
       "</style>\n",
       "<table border=\"1\" class=\"dataframe\">\n",
       "  <thead>\n",
       "    <tr style=\"text-align: right;\">\n",
       "      <th></th>\n",
       "      <th>code</th>\n",
       "      <th>product_name</th>\n",
       "      <th>brands</th>\n",
       "      <th>nutriments</th>\n",
       "    </tr>\n",
       "  </thead>\n",
       "  <tbody>\n",
       "    <tr>\n",
       "      <th>0</th>\n",
       "      <td>6111035000430</td>\n",
       "      <td>Sidi Ali</td>\n",
       "      <td>Sidi Ali</td>\n",
       "      <td>{'carbohydrates': 42, 'carbohydrates_100g': 4....</td>\n",
       "    </tr>\n",
       "    <tr>\n",
       "      <th>1</th>\n",
       "      <td>6111242100992</td>\n",
       "      <td>Perly</td>\n",
       "      <td>Jaouda</td>\n",
       "      <td>{'calcium': 0.25, 'calcium_100g': 0.25, 'calci...</td>\n",
       "    </tr>\n",
       "    <tr>\n",
       "      <th>2</th>\n",
       "      <td>6111035002175</td>\n",
       "      <td>Sidi Ali</td>\n",
       "      <td>sidi ali</td>\n",
       "      <td>{'chloride': 0.014, 'chloride_100g': 0.014, 'c...</td>\n",
       "    </tr>\n",
       "    <tr>\n",
       "      <th>3</th>\n",
       "      <td>6111035000058</td>\n",
       "      <td>Eau minérale naturelle</td>\n",
       "      <td>Les Eaux Minérales d'oulmès,Sidi Ali</td>\n",
       "      <td>{'fruits-vegetables-legumes-estimate-from-ingr...</td>\n",
       "    </tr>\n",
       "    <tr>\n",
       "      <th>4</th>\n",
       "      <td>6111252421568</td>\n",
       "      <td>اكوافينا</td>\n",
       "      <td>AQUAFINA</td>\n",
       "      <td>{'alcohol': 0, 'alcohol_100g': 0, 'alcohol_ser...</td>\n",
       "    </tr>\n",
       "  </tbody>\n",
       "</table>\n",
       "</div>"
      ],
      "text/plain": [
       "            code            product_name  \\\n",
       "0  6111035000430                Sidi Ali   \n",
       "1  6111242100992                   Perly   \n",
       "2  6111035002175                Sidi Ali   \n",
       "3  6111035000058  Eau minérale naturelle   \n",
       "4  6111252421568                اكوافينا   \n",
       "\n",
       "                                 brands  \\\n",
       "0                              Sidi Ali   \n",
       "1                                Jaouda   \n",
       "2                              sidi ali   \n",
       "3  Les Eaux Minérales d'oulmès,Sidi Ali   \n",
       "4                              AQUAFINA   \n",
       "\n",
       "                                          nutriments  \n",
       "0  {'carbohydrates': 42, 'carbohydrates_100g': 4....  \n",
       "1  {'calcium': 0.25, 'calcium_100g': 0.25, 'calci...  \n",
       "2  {'chloride': 0.014, 'chloride_100g': 0.014, 'c...  \n",
       "3  {'fruits-vegetables-legumes-estimate-from-ingr...  \n",
       "4  {'alcohol': 0, 'alcohol_100g': 0, 'alcohol_ser...  "
      ]
     },
     "execution_count": 10,
     "metadata": {},
     "output_type": "execute_result"
    }
   ],
   "source": [
    "data.head()"
   ]
  },
  {
   "cell_type": "code",
   "execution_count": 11,
   "id": "5ac68eaa-20c1-448b-868b-aacc81b0f466",
   "metadata": {},
   "outputs": [],
   "source": [
    "data=fetch_classifications(pages=120)"
   ]
  },
  {
   "cell_type": "code",
   "execution_count": 12,
   "id": "70efd4a9-e390-4de7-9141-f324718d82a1",
   "metadata": {},
   "outputs": [
    {
     "data": {
      "text/html": [
       "<div>\n",
       "<style scoped>\n",
       "    .dataframe tbody tr th:only-of-type {\n",
       "        vertical-align: middle;\n",
       "    }\n",
       "\n",
       "    .dataframe tbody tr th {\n",
       "        vertical-align: top;\n",
       "    }\n",
       "\n",
       "    .dataframe thead th {\n",
       "        text-align: right;\n",
       "    }\n",
       "</style>\n",
       "<table border=\"1\" class=\"dataframe\">\n",
       "  <thead>\n",
       "    <tr style=\"text-align: right;\">\n",
       "      <th></th>\n",
       "      <th>code</th>\n",
       "      <th>product_name</th>\n",
       "      <th>brands</th>\n",
       "      <th>nutriments</th>\n",
       "    </tr>\n",
       "  </thead>\n",
       "  <tbody>\n",
       "    <tr>\n",
       "      <th>0</th>\n",
       "      <td>6111035000430</td>\n",
       "      <td>Sidi Ali</td>\n",
       "      <td>Sidi Ali</td>\n",
       "      <td>{'carbohydrates': 42, 'carbohydrates_100g': 4....</td>\n",
       "    </tr>\n",
       "    <tr>\n",
       "      <th>1</th>\n",
       "      <td>6111242100992</td>\n",
       "      <td>Perly</td>\n",
       "      <td>Jaouda</td>\n",
       "      <td>{'calcium': 0.25, 'calcium_100g': 0.25, 'calci...</td>\n",
       "    </tr>\n",
       "    <tr>\n",
       "      <th>2</th>\n",
       "      <td>6111035002175</td>\n",
       "      <td>Sidi Ali</td>\n",
       "      <td>sidi ali</td>\n",
       "      <td>{'chloride': 0.014, 'chloride_100g': 0.014, 'c...</td>\n",
       "    </tr>\n",
       "    <tr>\n",
       "      <th>3</th>\n",
       "      <td>6111035000058</td>\n",
       "      <td>Eau minérale naturelle</td>\n",
       "      <td>Les Eaux Minérales d'oulmès,Sidi Ali</td>\n",
       "      <td>{'fruits-vegetables-legumes-estimate-from-ingr...</td>\n",
       "    </tr>\n",
       "    <tr>\n",
       "      <th>4</th>\n",
       "      <td>6111252421568</td>\n",
       "      <td>اكوافينا</td>\n",
       "      <td>AQUAFINA</td>\n",
       "      <td>{'alcohol': 0, 'alcohol_100g': 0, 'alcohol_ser...</td>\n",
       "    </tr>\n",
       "    <tr>\n",
       "      <th>...</th>\n",
       "      <td>...</td>\n",
       "      <td>...</td>\n",
       "      <td>...</td>\n",
       "      <td>...</td>\n",
       "    </tr>\n",
       "    <tr>\n",
       "      <th>11992</th>\n",
       "      <td>6111069000819</td>\n",
       "      <td>Thé vert en grain najma</td>\n",
       "      <td>Sultan</td>\n",
       "      <td>{'carbohydrates': 0, 'carbohydrates_100g': 0, ...</td>\n",
       "    </tr>\n",
       "    <tr>\n",
       "      <th>11993</th>\n",
       "      <td>0612322001612</td>\n",
       "      <td>nairns dark chocolate chip oat biscuits</td>\n",
       "      <td>Nairn’s</td>\n",
       "      <td>{'carbohydrates': 63.8, 'carbohydrates_100g': ...</td>\n",
       "    </tr>\n",
       "    <tr>\n",
       "      <th>11994</th>\n",
       "      <td>5010478014510</td>\n",
       "      <td>Drumstick Squashies</td>\n",
       "      <td>Swizzels</td>\n",
       "      <td>{'carbohydrates': 84, 'carbohydrates_100g': 84...</td>\n",
       "    </tr>\n",
       "    <tr>\n",
       "      <th>11995</th>\n",
       "      <td>0070177067779</td>\n",
       "      <td>twinings tea</td>\n",
       "      <td>Twinings, Sainsburys</td>\n",
       "      <td>{'carbohydrates': 0, 'carbohydrates_100g': 0, ...</td>\n",
       "    </tr>\n",
       "    <tr>\n",
       "      <th>11996</th>\n",
       "      <td>88882222</td>\n",
       "      <td>Eau de Coco</td>\n",
       "      <td>NaN</td>\n",
       "      <td>{'carbohydrates': 3.2, 'carbohydrates_100g': 3...</td>\n",
       "    </tr>\n",
       "  </tbody>\n",
       "</table>\n",
       "<p>11997 rows × 4 columns</p>\n",
       "</div>"
      ],
      "text/plain": [
       "                code                             product_name  \\\n",
       "0      6111035000430                                 Sidi Ali   \n",
       "1      6111242100992                                    Perly   \n",
       "2      6111035002175                                 Sidi Ali   \n",
       "3      6111035000058                   Eau minérale naturelle   \n",
       "4      6111252421568                                 اكوافينا   \n",
       "...              ...                                      ...   \n",
       "11992  6111069000819                  Thé vert en grain najma   \n",
       "11993  0612322001612  nairns dark chocolate chip oat biscuits   \n",
       "11994  5010478014510                      Drumstick Squashies   \n",
       "11995  0070177067779                             twinings tea   \n",
       "11996       88882222                              Eau de Coco   \n",
       "\n",
       "                                     brands  \\\n",
       "0                                  Sidi Ali   \n",
       "1                                    Jaouda   \n",
       "2                                  sidi ali   \n",
       "3      Les Eaux Minérales d'oulmès,Sidi Ali   \n",
       "4                                  AQUAFINA   \n",
       "...                                     ...   \n",
       "11992                                Sultan   \n",
       "11993                               Nairn’s   \n",
       "11994                              Swizzels   \n",
       "11995                  Twinings, Sainsburys   \n",
       "11996                                   NaN   \n",
       "\n",
       "                                              nutriments  \n",
       "0      {'carbohydrates': 42, 'carbohydrates_100g': 4....  \n",
       "1      {'calcium': 0.25, 'calcium_100g': 0.25, 'calci...  \n",
       "2      {'chloride': 0.014, 'chloride_100g': 0.014, 'c...  \n",
       "3      {'fruits-vegetables-legumes-estimate-from-ingr...  \n",
       "4      {'alcohol': 0, 'alcohol_100g': 0, 'alcohol_ser...  \n",
       "...                                                  ...  \n",
       "11992  {'carbohydrates': 0, 'carbohydrates_100g': 0, ...  \n",
       "11993  {'carbohydrates': 63.8, 'carbohydrates_100g': ...  \n",
       "11994  {'carbohydrates': 84, 'carbohydrates_100g': 84...  \n",
       "11995  {'carbohydrates': 0, 'carbohydrates_100g': 0, ...  \n",
       "11996  {'carbohydrates': 3.2, 'carbohydrates_100g': 3...  \n",
       "\n",
       "[11997 rows x 4 columns]"
      ]
     },
     "execution_count": 12,
     "metadata": {},
     "output_type": "execute_result"
    }
   ],
   "source": [
    "data"
   ]
  },
  {
   "cell_type": "code",
   "execution_count": 13,
   "id": "00f6aefa-2a6a-4015-9886-a8ed55bd1091",
   "metadata": {},
   "outputs": [
    {
     "data": {
      "text/plain": [
       "code              0\n",
       "product_name    254\n",
       "brands          536\n",
       "nutriments        0\n",
       "dtype: int64"
      ]
     },
     "execution_count": 13,
     "metadata": {},
     "output_type": "execute_result"
    }
   ],
   "source": [
    "data.isnull().sum()"
   ]
  },
  {
   "cell_type": "code",
   "execution_count": 14,
   "id": "92a25f65-ab64-4355-a3ca-ae60533ba49b",
   "metadata": {},
   "outputs": [
    {
     "data": {
      "text/plain": [
       "0        {'carbohydrates': 42, 'carbohydrates_100g': 4....\n",
       "1        {'calcium': 0.25, 'calcium_100g': 0.25, 'calci...\n",
       "2        {'chloride': 0.014, 'chloride_100g': 0.014, 'c...\n",
       "3        {'fruits-vegetables-legumes-estimate-from-ingr...\n",
       "4        {'alcohol': 0, 'alcohol_100g': 0, 'alcohol_ser...\n",
       "                               ...                        \n",
       "11992    {'carbohydrates': 0, 'carbohydrates_100g': 0, ...\n",
       "11993    {'carbohydrates': 63.8, 'carbohydrates_100g': ...\n",
       "11994    {'carbohydrates': 84, 'carbohydrates_100g': 84...\n",
       "11995    {'carbohydrates': 0, 'carbohydrates_100g': 0, ...\n",
       "11996    {'carbohydrates': 3.2, 'carbohydrates_100g': 3...\n",
       "Name: nutriments, Length: 11997, dtype: object"
      ]
     },
     "execution_count": 14,
     "metadata": {},
     "output_type": "execute_result"
    }
   ],
   "source": [
    "data['nutriments']"
   ]
  },
  {
   "cell_type": "code",
   "execution_count": 15,
   "id": "28c78b3a-caff-481f-88a0-47253345db49",
   "metadata": {},
   "outputs": [
    {
     "data": {
      "text/plain": [
       "Index(['code', 'product_name', 'brands', 'nutriments'], dtype='object')"
      ]
     },
     "execution_count": 15,
     "metadata": {},
     "output_type": "execute_result"
    }
   ],
   "source": [
    "data.keys()"
   ]
  },
  {
   "cell_type": "code",
   "execution_count": 16,
   "id": "90106372-9006-4820-a997-00b95f8dc207",
   "metadata": {},
   "outputs": [
    {
     "name": "stdout",
     "output_type": "stream",
     "text": [
      "<class 'pandas.core.series.Series'>\n",
      "RangeIndex: 11997 entries, 0 to 11996\n",
      "Series name: nutriments\n",
      "Non-Null Count  Dtype \n",
      "--------------  ----- \n",
      "11997 non-null  object\n",
      "dtypes: object(1)\n",
      "memory usage: 93.9+ KB\n"
     ]
    }
   ],
   "source": [
    "data['nutriments'].info()"
   ]
  },
  {
   "cell_type": "code",
   "execution_count": 17,
   "id": "ffb24795-8729-40c6-9c31-ace57d549079",
   "metadata": {},
   "outputs": [
    {
     "name": "stdout",
     "output_type": "stream",
     "text": [
      "✅ Final columns: ['code', 'product_name', 'brands', 'energy-kcal_value', 'energy-kj_value', 'carbohydrates_value', 'sugars_value', 'fat_value', 'saturated-fat_value', 'proteins_value', 'fiber_value', 'salt_value', 'sodium_value', 'nova-group', 'nutrition-score-fr', 'fruits-vegetables-nuts-estimate-from-ingredients_100g']\n"
     ]
    }
   ],
   "source": [
    "required_keys = [\n",
    "    \"energy-kcal_value\",\n",
    "    \"energy-kj_value\",\n",
    "    \"carbohydrates_value\",\n",
    "    \"sugars_value\",\n",
    "    \"fat_value\",\n",
    "    \"saturated-fat_value\",\n",
    "    \"proteins_value\",\n",
    "    \"fiber_value\",\n",
    "    \"salt_value\",\n",
    "    \"sodium_value\",\n",
    "    \"nova-group\",\n",
    "    \"nutrition-score-fr\",\n",
    "    \"fruits-vegetables-nuts-estimate-from-ingredients_100g\"\n",
    "]\n",
    "\n",
    "if \"nutriments\" in data.columns:\n",
    "    nutriments_filtered = data[\"nutriments\"].apply(\n",
    "        lambda x: {k: x.get(k) for k in required_keys} if isinstance(x, dict) else {}\n",
    "    )\n",
    "\n",
    "    nutriments_df = pd.json_normalize(nutriments_filtered)\n",
    "\n",
    "    \n",
    "    nutriments_df = nutriments_df.loc[:, ~nutriments_df.columns.duplicated()]\n",
    "\n",
    "   \n",
    "    data = pd.concat([data.drop(columns=[\"nutriments\"]), nutriments_df], axis=1)\n",
    "\n",
    "\n",
    "data = data.loc[:, ~data.columns.duplicated()]\n",
    "\n",
    "print(\"✅ Final columns:\", data.columns.tolist())"
   ]
  },
  {
   "cell_type": "code",
   "execution_count": 18,
   "id": "c272c8cc-3566-42a6-8904-744d15b32571",
   "metadata": {},
   "outputs": [
    {
     "data": {
      "text/html": [
       "<div>\n",
       "<style scoped>\n",
       "    .dataframe tbody tr th:only-of-type {\n",
       "        vertical-align: middle;\n",
       "    }\n",
       "\n",
       "    .dataframe tbody tr th {\n",
       "        vertical-align: top;\n",
       "    }\n",
       "\n",
       "    .dataframe thead th {\n",
       "        text-align: right;\n",
       "    }\n",
       "</style>\n",
       "<table border=\"1\" class=\"dataframe\">\n",
       "  <thead>\n",
       "    <tr style=\"text-align: right;\">\n",
       "      <th></th>\n",
       "      <th>code</th>\n",
       "      <th>product_name</th>\n",
       "      <th>brands</th>\n",
       "      <th>energy-kcal_value</th>\n",
       "      <th>energy-kj_value</th>\n",
       "      <th>carbohydrates_value</th>\n",
       "      <th>sugars_value</th>\n",
       "      <th>fat_value</th>\n",
       "      <th>saturated-fat_value</th>\n",
       "      <th>proteins_value</th>\n",
       "      <th>fiber_value</th>\n",
       "      <th>salt_value</th>\n",
       "      <th>sodium_value</th>\n",
       "      <th>nova-group</th>\n",
       "      <th>nutrition-score-fr</th>\n",
       "      <th>fruits-vegetables-nuts-estimate-from-ingredients_100g</th>\n",
       "    </tr>\n",
       "  </thead>\n",
       "  <tbody>\n",
       "    <tr>\n",
       "      <th>0</th>\n",
       "      <td>6111035000430</td>\n",
       "      <td>Sidi Ali</td>\n",
       "      <td>Sidi Ali</td>\n",
       "      <td>0.0</td>\n",
       "      <td>20.0</td>\n",
       "      <td>42.0</td>\n",
       "      <td>14.0</td>\n",
       "      <td>0.0</td>\n",
       "      <td>0.0</td>\n",
       "      <td>0.0</td>\n",
       "      <td>0.0</td>\n",
       "      <td>0.00000</td>\n",
       "      <td>0.000000</td>\n",
       "      <td>NaN</td>\n",
       "      <td>1.0</td>\n",
       "      <td>0.0</td>\n",
       "    </tr>\n",
       "    <tr>\n",
       "      <th>1</th>\n",
       "      <td>6111242100992</td>\n",
       "      <td>Perly</td>\n",
       "      <td>Jaouda</td>\n",
       "      <td>97.0</td>\n",
       "      <td>406.0</td>\n",
       "      <td>9.4</td>\n",
       "      <td>NaN</td>\n",
       "      <td>3.0</td>\n",
       "      <td>NaN</td>\n",
       "      <td>8.0</td>\n",
       "      <td>NaN</td>\n",
       "      <td>NaN</td>\n",
       "      <td>NaN</td>\n",
       "      <td>3.0</td>\n",
       "      <td>NaN</td>\n",
       "      <td>0.0</td>\n",
       "    </tr>\n",
       "    <tr>\n",
       "      <th>2</th>\n",
       "      <td>6111035002175</td>\n",
       "      <td>Sidi Ali</td>\n",
       "      <td>sidi ali</td>\n",
       "      <td>NaN</td>\n",
       "      <td>NaN</td>\n",
       "      <td>NaN</td>\n",
       "      <td>NaN</td>\n",
       "      <td>NaN</td>\n",
       "      <td>NaN</td>\n",
       "      <td>NaN</td>\n",
       "      <td>NaN</td>\n",
       "      <td>65.00000</td>\n",
       "      <td>26.000000</td>\n",
       "      <td>NaN</td>\n",
       "      <td>0.0</td>\n",
       "      <td>0.0</td>\n",
       "    </tr>\n",
       "    <tr>\n",
       "      <th>3</th>\n",
       "      <td>6111035000058</td>\n",
       "      <td>Eau minérale naturelle</td>\n",
       "      <td>Les Eaux Minérales d'oulmès,Sidi Ali</td>\n",
       "      <td>NaN</td>\n",
       "      <td>NaN</td>\n",
       "      <td>NaN</td>\n",
       "      <td>NaN</td>\n",
       "      <td>NaN</td>\n",
       "      <td>NaN</td>\n",
       "      <td>NaN</td>\n",
       "      <td>NaN</td>\n",
       "      <td>65.00000</td>\n",
       "      <td>26.000000</td>\n",
       "      <td>1.0</td>\n",
       "      <td>0.0</td>\n",
       "      <td>0.0</td>\n",
       "    </tr>\n",
       "    <tr>\n",
       "      <th>4</th>\n",
       "      <td>6111252421568</td>\n",
       "      <td>اكوافينا</td>\n",
       "      <td>AQUAFINA</td>\n",
       "      <td>0.0</td>\n",
       "      <td>0.0</td>\n",
       "      <td>0.0</td>\n",
       "      <td>0.0</td>\n",
       "      <td>0.0</td>\n",
       "      <td>0.0</td>\n",
       "      <td>0.0</td>\n",
       "      <td>0.0</td>\n",
       "      <td>0.00508</td>\n",
       "      <td>0.002032</td>\n",
       "      <td>NaN</td>\n",
       "      <td>0.0</td>\n",
       "      <td>0.0</td>\n",
       "    </tr>\n",
       "  </tbody>\n",
       "</table>\n",
       "</div>"
      ],
      "text/plain": [
       "            code            product_name  \\\n",
       "0  6111035000430                Sidi Ali   \n",
       "1  6111242100992                   Perly   \n",
       "2  6111035002175                Sidi Ali   \n",
       "3  6111035000058  Eau minérale naturelle   \n",
       "4  6111252421568                اكوافينا   \n",
       "\n",
       "                                 brands  energy-kcal_value  energy-kj_value  \\\n",
       "0                              Sidi Ali                0.0             20.0   \n",
       "1                                Jaouda               97.0            406.0   \n",
       "2                              sidi ali                NaN              NaN   \n",
       "3  Les Eaux Minérales d'oulmès,Sidi Ali                NaN              NaN   \n",
       "4                              AQUAFINA                0.0              0.0   \n",
       "\n",
       "   carbohydrates_value  sugars_value  fat_value  saturated-fat_value  \\\n",
       "0                 42.0          14.0        0.0                  0.0   \n",
       "1                  9.4           NaN        3.0                  NaN   \n",
       "2                  NaN           NaN        NaN                  NaN   \n",
       "3                  NaN           NaN        NaN                  NaN   \n",
       "4                  0.0           0.0        0.0                  0.0   \n",
       "\n",
       "   proteins_value  fiber_value  salt_value  sodium_value  nova-group  \\\n",
       "0             0.0          0.0     0.00000      0.000000         NaN   \n",
       "1             8.0          NaN         NaN           NaN         3.0   \n",
       "2             NaN          NaN    65.00000     26.000000         NaN   \n",
       "3             NaN          NaN    65.00000     26.000000         1.0   \n",
       "4             0.0          0.0     0.00508      0.002032         NaN   \n",
       "\n",
       "   nutrition-score-fr  fruits-vegetables-nuts-estimate-from-ingredients_100g  \n",
       "0                 1.0                                                0.0      \n",
       "1                 NaN                                                0.0      \n",
       "2                 0.0                                                0.0      \n",
       "3                 0.0                                                0.0      \n",
       "4                 0.0                                                0.0      "
      ]
     },
     "execution_count": 18,
     "metadata": {},
     "output_type": "execute_result"
    }
   ],
   "source": [
    "data.head()"
   ]
  },
  {
   "cell_type": "code",
   "execution_count": 19,
   "id": "4ba703c4-de2b-4d62-a730-b933e6c09586",
   "metadata": {},
   "outputs": [
    {
     "name": "stdout",
     "output_type": "stream",
     "text": [
      "<class 'pandas.core.frame.DataFrame'>\n",
      "RangeIndex: 11997 entries, 0 to 11996\n",
      "Data columns (total 16 columns):\n",
      " #   Column                                                 Non-Null Count  Dtype  \n",
      "---  ------                                                 --------------  -----  \n",
      " 0   code                                                   11997 non-null  object \n",
      " 1   product_name                                           11743 non-null  object \n",
      " 2   brands                                                 11461 non-null  object \n",
      " 3   energy-kcal_value                                      11229 non-null  float64\n",
      " 4   energy-kj_value                                        6436 non-null   float64\n",
      " 5   carbohydrates_value                                    11229 non-null  float64\n",
      " 6   sugars_value                                           11025 non-null  float64\n",
      " 7   fat_value                                              11257 non-null  float64\n",
      " 8   saturated-fat_value                                    10951 non-null  float64\n",
      " 9   proteins_value                                         11247 non-null  float64\n",
      " 10  fiber_value                                            8205 non-null   float64\n",
      " 11  salt_value                                             10909 non-null  float64\n",
      " 12  sodium_value                                           10909 non-null  float64\n",
      " 13  nova-group                                             10727 non-null  float64\n",
      " 14  nutrition-score-fr                                     10310 non-null  float64\n",
      " 15  fruits-vegetables-nuts-estimate-from-ingredients_100g  11265 non-null  float64\n",
      "dtypes: float64(13), object(3)\n",
      "memory usage: 1.5+ MB\n"
     ]
    }
   ],
   "source": [
    "data.info()"
   ]
  },
  {
   "cell_type": "code",
   "execution_count": 20,
   "id": "f4bb8723-263e-4bdc-bd8e-9bdbcc52c33f",
   "metadata": {},
   "outputs": [
    {
     "name": "stdout",
     "output_type": "stream",
     "text": [
      "code                                                      0.000000\n",
      "product_name                                              2.117196\n",
      "brands                                                    4.467784\n",
      "energy-kcal_value                                         6.401600\n",
      "energy-kj_value                                          46.353255\n",
      "carbohydrates_value                                       6.401600\n",
      "sugars_value                                              8.102026\n",
      "fat_value                                                 6.168209\n",
      "saturated-fat_value                                       8.718846\n",
      "proteins_value                                            6.251563\n",
      "fiber_value                                              31.607902\n",
      "salt_value                                                9.068934\n",
      "sodium_value                                              9.068934\n",
      "nova-group                                               10.585980\n",
      "nutrition-score-fr                                       14.061849\n",
      "fruits-vegetables-nuts-estimate-from-ingredients_100g     6.101525\n",
      "dtype: float64\n"
     ]
    }
   ],
   "source": [
    "null_percentage = (data.isnull().sum() / len(data)) * 100\n",
    "\n",
    "print(null_percentage)"
   ]
  },
  {
   "cell_type": "code",
   "execution_count": 21,
   "id": "06d87c4e-3c63-46a9-aa39-1c96c7bc5566",
   "metadata": {},
   "outputs": [],
   "source": [
    "data[[\"product_name\", \"brands\"]] = data[[\"product_name\", \"brands\"]].ffill()\n",
    "\n"
   ]
  },
  {
   "cell_type": "code",
   "execution_count": 22,
   "id": "3a1444f0-d73d-42da-a417-49b280a0bf49",
   "metadata": {},
   "outputs": [],
   "source": [
    "data[[\"energy-kcal_value\", \"energy-kj_value\"]] = data[[\"energy-kcal_value\", \"energy-kj_value\"]].bfill()\n",
    "data[\"sodium_value\"] = data[\"sodium_value\"].bfill()\n"
   ]
  },
  {
   "cell_type": "code",
   "execution_count": 23,
   "id": "09edd54c-ded4-4e7f-8a7c-88836977cfcc",
   "metadata": {},
   "outputs": [],
   "source": [
    "for col in [\"carbohydrates_value\", \"sugars_value\", \"fat_value\"]:\n",
    "    data[col] = data[col].fillna(data[col].mean())\n",
    "    "
   ]
  },
  {
   "cell_type": "code",
   "execution_count": 24,
   "id": "949c8243-8959-4b7d-bb0b-f8df9b4f7ddd",
   "metadata": {},
   "outputs": [],
   "source": [
    "data[\"salt_value\"] = data[\"salt_value\"].fillna(data[\"salt_value\"].mean())"
   ]
  },
  {
   "cell_type": "code",
   "execution_count": 25,
   "id": "ba670e87-fa71-40f5-8a3e-fe31d85f2e49",
   "metadata": {},
   "outputs": [],
   "source": [
    "data[\"proteins_value\"] = data[\"proteins_value\"].fillna(data[\"proteins_value\"].median())\n",
    "data[\"fiber_value\"] = data[\"fiber_value\"].fillna(data[\"fiber_value\"].median())\n",
    "data[\"saturated-fat_value\"] = data[\"saturated-fat_value\"].fillna(data[\"saturated-fat_value\"].median())"
   ]
  },
  {
   "cell_type": "code",
   "execution_count": 26,
   "id": "2b46fcdb-3457-46d8-9af9-2326aca578ff",
   "metadata": {},
   "outputs": [],
   "source": [
    "data[\"nova-group\"] = data[\"nova-group\"].fillna(data[\"nova-group\"].mode()[0])\n"
   ]
  },
  {
   "cell_type": "code",
   "execution_count": 27,
   "id": "36263b37-d759-47f2-982f-fb538c0ecb1c",
   "metadata": {},
   "outputs": [],
   "source": [
    "data[\"nutrition-score-fr\"] = data[\"nutrition-score-fr\"].fillna(0)\n",
    "data[\"fruits-vegetables-nuts-estimate-from-ingredients_100g\"] = (\n",
    "    data[\"fruits-vegetables-nuts-estimate-from-ingredients_100g\"].fillna(-1)\n",
    ")"
   ]
  },
  {
   "cell_type": "code",
   "execution_count": 29,
   "id": "39b6b7d8-e3eb-4da0-9c6f-9bbad105856a",
   "metadata": {},
   "outputs": [],
   "source": [
    "data[\"energy-kj_value\"] = data[\"energy-kj_value\"].fillna(0)"
   ]
  },
  {
   "cell_type": "code",
   "execution_count": 30,
   "id": "4bda6681-72d4-498a-a708-8742c32a424f",
   "metadata": {},
   "outputs": [
    {
     "data": {
      "text/plain": [
       "code                                                     0\n",
       "product_name                                             0\n",
       "brands                                                   0\n",
       "energy-kcal_value                                        0\n",
       "energy-kj_value                                          0\n",
       "carbohydrates_value                                      0\n",
       "sugars_value                                             0\n",
       "fat_value                                                0\n",
       "saturated-fat_value                                      0\n",
       "proteins_value                                           0\n",
       "fiber_value                                              0\n",
       "salt_value                                               0\n",
       "sodium_value                                             0\n",
       "nova-group                                               0\n",
       "nutrition-score-fr                                       0\n",
       "fruits-vegetables-nuts-estimate-from-ingredients_100g    0\n",
       "dtype: int64"
      ]
     },
     "execution_count": 30,
     "metadata": {},
     "output_type": "execute_result"
    }
   ],
   "source": [
    "data.isnull().sum()"
   ]
  },
  {
   "cell_type": "code",
   "execution_count": 31,
   "id": "6f97cbff-cd5f-485b-8945-a15858956fd0",
   "metadata": {},
   "outputs": [
    {
     "data": {
      "text/html": [
       "<div>\n",
       "<style scoped>\n",
       "    .dataframe tbody tr th:only-of-type {\n",
       "        vertical-align: middle;\n",
       "    }\n",
       "\n",
       "    .dataframe tbody tr th {\n",
       "        vertical-align: top;\n",
       "    }\n",
       "\n",
       "    .dataframe thead th {\n",
       "        text-align: right;\n",
       "    }\n",
       "</style>\n",
       "<table border=\"1\" class=\"dataframe\">\n",
       "  <thead>\n",
       "    <tr style=\"text-align: right;\">\n",
       "      <th></th>\n",
       "      <th>code</th>\n",
       "      <th>product_name</th>\n",
       "      <th>brands</th>\n",
       "      <th>energy-kcal_value</th>\n",
       "      <th>energy-kj_value</th>\n",
       "      <th>carbohydrates_value</th>\n",
       "      <th>sugars_value</th>\n",
       "      <th>fat_value</th>\n",
       "      <th>saturated-fat_value</th>\n",
       "      <th>proteins_value</th>\n",
       "      <th>fiber_value</th>\n",
       "      <th>salt_value</th>\n",
       "      <th>sodium_value</th>\n",
       "      <th>nova-group</th>\n",
       "      <th>nutrition-score-fr</th>\n",
       "      <th>fruits-vegetables-nuts-estimate-from-ingredients_100g</th>\n",
       "    </tr>\n",
       "  </thead>\n",
       "  <tbody>\n",
       "    <tr>\n",
       "      <th>0</th>\n",
       "      <td>6111035000430</td>\n",
       "      <td>Sidi Ali</td>\n",
       "      <td>Sidi Ali</td>\n",
       "      <td>0.0</td>\n",
       "      <td>20.0</td>\n",
       "      <td>42.000000</td>\n",
       "      <td>14.000000</td>\n",
       "      <td>0.000000</td>\n",
       "      <td>0.0</td>\n",
       "      <td>0.0</td>\n",
       "      <td>0.0</td>\n",
       "      <td>0.000000</td>\n",
       "      <td>0.000000</td>\n",
       "      <td>4.0</td>\n",
       "      <td>1.0</td>\n",
       "      <td>0.0</td>\n",
       "    </tr>\n",
       "    <tr>\n",
       "      <th>1</th>\n",
       "      <td>6111242100992</td>\n",
       "      <td>Perly</td>\n",
       "      <td>Jaouda</td>\n",
       "      <td>97.0</td>\n",
       "      <td>406.0</td>\n",
       "      <td>9.400000</td>\n",
       "      <td>11.399435</td>\n",
       "      <td>3.000000</td>\n",
       "      <td>1.4</td>\n",
       "      <td>8.0</td>\n",
       "      <td>2.5</td>\n",
       "      <td>18.509833</td>\n",
       "      <td>26.000000</td>\n",
       "      <td>3.0</td>\n",
       "      <td>0.0</td>\n",
       "      <td>0.0</td>\n",
       "    </tr>\n",
       "    <tr>\n",
       "      <th>2</th>\n",
       "      <td>6111035002175</td>\n",
       "      <td>Sidi Ali</td>\n",
       "      <td>sidi ali</td>\n",
       "      <td>0.0</td>\n",
       "      <td>0.0</td>\n",
       "      <td>29.469532</td>\n",
       "      <td>11.399435</td>\n",
       "      <td>14.873864</td>\n",
       "      <td>1.4</td>\n",
       "      <td>5.6</td>\n",
       "      <td>2.5</td>\n",
       "      <td>65.000000</td>\n",
       "      <td>26.000000</td>\n",
       "      <td>4.0</td>\n",
       "      <td>0.0</td>\n",
       "      <td>0.0</td>\n",
       "    </tr>\n",
       "    <tr>\n",
       "      <th>3</th>\n",
       "      <td>6111035000058</td>\n",
       "      <td>Eau minérale naturelle</td>\n",
       "      <td>Les Eaux Minérales d'oulmès,Sidi Ali</td>\n",
       "      <td>0.0</td>\n",
       "      <td>0.0</td>\n",
       "      <td>29.469532</td>\n",
       "      <td>11.399435</td>\n",
       "      <td>14.873864</td>\n",
       "      <td>1.4</td>\n",
       "      <td>5.6</td>\n",
       "      <td>2.5</td>\n",
       "      <td>65.000000</td>\n",
       "      <td>26.000000</td>\n",
       "      <td>1.0</td>\n",
       "      <td>0.0</td>\n",
       "      <td>0.0</td>\n",
       "    </tr>\n",
       "    <tr>\n",
       "      <th>4</th>\n",
       "      <td>6111252421568</td>\n",
       "      <td>اكوافينا</td>\n",
       "      <td>AQUAFINA</td>\n",
       "      <td>0.0</td>\n",
       "      <td>0.0</td>\n",
       "      <td>0.000000</td>\n",
       "      <td>0.000000</td>\n",
       "      <td>0.000000</td>\n",
       "      <td>0.0</td>\n",
       "      <td>0.0</td>\n",
       "      <td>0.0</td>\n",
       "      <td>0.005080</td>\n",
       "      <td>0.002032</td>\n",
       "      <td>4.0</td>\n",
       "      <td>0.0</td>\n",
       "      <td>0.0</td>\n",
       "    </tr>\n",
       "  </tbody>\n",
       "</table>\n",
       "</div>"
      ],
      "text/plain": [
       "            code            product_name  \\\n",
       "0  6111035000430                Sidi Ali   \n",
       "1  6111242100992                   Perly   \n",
       "2  6111035002175                Sidi Ali   \n",
       "3  6111035000058  Eau minérale naturelle   \n",
       "4  6111252421568                اكوافينا   \n",
       "\n",
       "                                 brands  energy-kcal_value  energy-kj_value  \\\n",
       "0                              Sidi Ali                0.0             20.0   \n",
       "1                                Jaouda               97.0            406.0   \n",
       "2                              sidi ali                0.0              0.0   \n",
       "3  Les Eaux Minérales d'oulmès,Sidi Ali                0.0              0.0   \n",
       "4                              AQUAFINA                0.0              0.0   \n",
       "\n",
       "   carbohydrates_value  sugars_value  fat_value  saturated-fat_value  \\\n",
       "0            42.000000     14.000000   0.000000                  0.0   \n",
       "1             9.400000     11.399435   3.000000                  1.4   \n",
       "2            29.469532     11.399435  14.873864                  1.4   \n",
       "3            29.469532     11.399435  14.873864                  1.4   \n",
       "4             0.000000      0.000000   0.000000                  0.0   \n",
       "\n",
       "   proteins_value  fiber_value  salt_value  sodium_value  nova-group  \\\n",
       "0             0.0          0.0    0.000000      0.000000         4.0   \n",
       "1             8.0          2.5   18.509833     26.000000         3.0   \n",
       "2             5.6          2.5   65.000000     26.000000         4.0   \n",
       "3             5.6          2.5   65.000000     26.000000         1.0   \n",
       "4             0.0          0.0    0.005080      0.002032         4.0   \n",
       "\n",
       "   nutrition-score-fr  fruits-vegetables-nuts-estimate-from-ingredients_100g  \n",
       "0                 1.0                                                0.0      \n",
       "1                 0.0                                                0.0      \n",
       "2                 0.0                                                0.0      \n",
       "3                 0.0                                                0.0      \n",
       "4                 0.0                                                0.0      "
      ]
     },
     "execution_count": 31,
     "metadata": {},
     "output_type": "execute_result"
    }
   ],
   "source": [
    "data.head()"
   ]
  },
  {
   "cell_type": "code",
   "execution_count": 28,
   "id": "ad791b2e-e3fe-470c-abb9-d70f6ee64603",
   "metadata": {},
   "outputs": [
    {
     "data": {
      "text/plain": [
       "np.int64(0)"
      ]
     },
     "execution_count": 28,
     "metadata": {},
     "output_type": "execute_result"
    }
   ],
   "source": [
    "data.duplicated().sum()"
   ]
  },
  {
   "cell_type": "code",
   "execution_count": 32,
   "id": "3ac9f19e-3a7d-4004-ab3e-d443bc948533",
   "metadata": {},
   "outputs": [
    {
     "name": "stdout",
     "output_type": "stream",
     "text": [
      "<class 'pandas.core.frame.DataFrame'>\n",
      "RangeIndex: 11997 entries, 0 to 11996\n",
      "Data columns (total 16 columns):\n",
      " #   Column                                                 Non-Null Count  Dtype  \n",
      "---  ------                                                 --------------  -----  \n",
      " 0   code                                                   11997 non-null  object \n",
      " 1   product_name                                           11997 non-null  object \n",
      " 2   brands                                                 11997 non-null  object \n",
      " 3   energy-kcal_value                                      11997 non-null  float64\n",
      " 4   energy-kj_value                                        11997 non-null  float64\n",
      " 5   carbohydrates_value                                    11997 non-null  float64\n",
      " 6   sugars_value                                           11997 non-null  float64\n",
      " 7   fat_value                                              11997 non-null  float64\n",
      " 8   saturated-fat_value                                    11997 non-null  float64\n",
      " 9   proteins_value                                         11997 non-null  float64\n",
      " 10  fiber_value                                            11997 non-null  float64\n",
      " 11  salt_value                                             11997 non-null  float64\n",
      " 12  sodium_value                                           11997 non-null  float64\n",
      " 13  nova-group                                             11997 non-null  float64\n",
      " 14  nutrition-score-fr                                     11997 non-null  float64\n",
      " 15  fruits-vegetables-nuts-estimate-from-ingredients_100g  11997 non-null  float64\n",
      "dtypes: float64(13), object(3)\n",
      "memory usage: 1.5+ MB\n"
     ]
    }
   ],
   "source": [
    "data.info()"
   ]
  },
  {
   "cell_type": "code",
   "execution_count": 34,
   "id": "4a9a7cb6-5108-4f91-a835-4478f5983450",
   "metadata": {},
   "outputs": [],
   "source": [
    "data[\"sugar_to_carb_ratio\"] = data.apply(\n",
    "    lambda row:row[\"sugars_value\"]/ row[\"carbohydrates_value\"]\n",
    "    if row[\"carbohydrates_value\"] not in [0,np.nan] else np.nan,\n",
    "    axis=1\n",
    ")\n"
   ]
  },
  {
   "cell_type": "code",
   "execution_count": 35,
   "id": "dd9ecec9-2bed-4c69-924f-039bdc75948c",
   "metadata": {},
   "outputs": [],
   "source": [
    "def calorie_category(kcal):\n",
    "    if pd.isna(kcal):\n",
    "        return np.nan\n",
    "    elif kcal < 150:\n",
    "        return \"Low\"\n",
    "    elif kcal < 400:\n",
    "        return \"Moderate\"\n",
    "    else:\n",
    "        return \"High\"\n",
    "\n",
    "data[\"calorie_category\"] = data[\"energy-kcal_value\"].apply(calorie_category)"
   ]
  },
  {
   "cell_type": "code",
   "execution_count": 36,
   "id": "91ac281c-e804-4a31-9ec6-d37cda8c494e",
   "metadata": {},
   "outputs": [],
   "source": [
    "def sugar_category(sugars):\n",
    "    if pd.isna(sugars):\n",
    "        return np.nan\n",
    "    elif sugars < 5:\n",
    "        return \"Low Sugar\"\n",
    "    elif sugars < 15:\n",
    "        return \"Moderate Sugar\"\n",
    "    else:\n",
    "        return \"High Sugar\"\n",
    "\n",
    "data[\"sugar_category\"] = data[\"sugars_value\"].apply(sugar_category)"
   ]
  },
  {
   "cell_type": "code",
   "execution_count": 37,
   "id": "86522395-ee40-4dae-b6dc-df0f60efa705",
   "metadata": {},
   "outputs": [],
   "source": [
    "data[\"is_ultra_processed\"] = data[\"nova-group\"].apply(\n",
    "    lambda x: \"Yes\" if x == 4 else (\"No\" if not pd.isna(x) else np.nan)\n",
    ")\n"
   ]
  },
  {
   "cell_type": "code",
   "execution_count": 38,
   "id": "b28e1a73-7db3-4787-b167-da75205fd343",
   "metadata": {},
   "outputs": [
    {
     "name": "stdout",
     "output_type": "stream",
     "text": [
      "<class 'pandas.core.frame.DataFrame'>\n",
      "RangeIndex: 11997 entries, 0 to 11996\n",
      "Data columns (total 20 columns):\n",
      " #   Column                                                 Non-Null Count  Dtype  \n",
      "---  ------                                                 --------------  -----  \n",
      " 0   code                                                   11997 non-null  object \n",
      " 1   product_name                                           11997 non-null  object \n",
      " 2   brands                                                 11997 non-null  object \n",
      " 3   energy-kcal_value                                      11997 non-null  float64\n",
      " 4   energy-kj_value                                        11997 non-null  float64\n",
      " 5   carbohydrates_value                                    11997 non-null  float64\n",
      " 6   sugars_value                                           11997 non-null  float64\n",
      " 7   fat_value                                              11997 non-null  float64\n",
      " 8   saturated-fat_value                                    11997 non-null  float64\n",
      " 9   proteins_value                                         11997 non-null  float64\n",
      " 10  fiber_value                                            11997 non-null  float64\n",
      " 11  salt_value                                             11997 non-null  float64\n",
      " 12  sodium_value                                           11997 non-null  float64\n",
      " 13  nova-group                                             11997 non-null  float64\n",
      " 14  nutrition-score-fr                                     11997 non-null  float64\n",
      " 15  fruits-vegetables-nuts-estimate-from-ingredients_100g  11997 non-null  float64\n",
      " 16  sugar_to_carb_ratio                                    11331 non-null  float64\n",
      " 17  calorie_category                                       11997 non-null  object \n",
      " 18  sugar_category                                         11997 non-null  object \n",
      " 19  is_ultra_processed                                     11997 non-null  object \n",
      "dtypes: float64(14), object(6)\n",
      "memory usage: 1.8+ MB\n"
     ]
    }
   ],
   "source": [
    "data.info() #Structure"
   ]
  },
  {
   "cell_type": "code",
   "execution_count": 41,
   "id": "5a1b6707-1fd2-42f1-81c3-258a86ea9f5b",
   "metadata": {},
   "outputs": [],
   "source": [
    "data[\"sugar_to_carb_ratio\"] = data[\"sugar_to_carb_ratio\"].fillna(0)"
   ]
  },
  {
   "cell_type": "code",
   "execution_count": 43,
   "id": "4b310c25-e089-43bf-a620-4ca8a3c818cb",
   "metadata": {},
   "outputs": [
    {
     "name": "stdout",
     "output_type": "stream",
     "text": [
      "code                                                     0.0\n",
      "product_name                                             0.0\n",
      "brands                                                   0.0\n",
      "energy-kcal_value                                        0.0\n",
      "energy-kj_value                                          0.0\n",
      "carbohydrates_value                                      0.0\n",
      "sugars_value                                             0.0\n",
      "fat_value                                                0.0\n",
      "saturated-fat_value                                      0.0\n",
      "proteins_value                                           0.0\n",
      "fiber_value                                              0.0\n",
      "salt_value                                               0.0\n",
      "sodium_value                                             0.0\n",
      "nova-group                                               0.0\n",
      "nutrition-score-fr                                       0.0\n",
      "fruits-vegetables-nuts-estimate-from-ingredients_100g    0.0\n",
      "sugar_to_carb_ratio                                      0.0\n",
      "calorie_category                                         0.0\n",
      "sugar_category                                           0.0\n",
      "is_ultra_processed                                       0.0\n",
      "dtype: float64\n"
     ]
    }
   ],
   "source": [
    "null_percentage = (data.isnull().sum() / len(data)) * 100\n",
    "\n",
    "print(null_percentage)"
   ]
  },
  {
   "cell_type": "code",
   "execution_count": 46,
   "id": "2886b9c0-ee23-4e05-94c4-f017d91c0722",
   "metadata": {},
   "outputs": [],
   "source": [
    "data.to_csv(\"Choco_Crunch.csv\",index =False)"
   ]
  },
  {
   "cell_type": "code",
   "execution_count": null,
   "id": "db8eed16-dae4-4bbf-be6a-d92b871f6f77",
   "metadata": {},
   "outputs": [],
   "source": []
  }
 ],
 "metadata": {
  "kernelspec": {
   "display_name": "Python 3 (ipykernel)",
   "language": "python",
   "name": "python3"
  },
  "language_info": {
   "codemirror_mode": {
    "name": "ipython",
    "version": 3
   },
   "file_extension": ".py",
   "mimetype": "text/x-python",
   "name": "python",
   "nbconvert_exporter": "python",
   "pygments_lexer": "ipython3",
   "version": "3.13.5"
  }
 },
 "nbformat": 4,
 "nbformat_minor": 5
}
